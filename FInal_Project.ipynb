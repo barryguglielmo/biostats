{
 "cells": [
  {
   "cell_type": "markdown",
   "metadata": {},
   "source": [
    "# Final Project for Biostats E-whatever\n",
    "\n",
    "By: Barry Guglielmo\n",
    "\n",
    "For: Dr. Bernard Rossner\n",
    "\n",
    "5/14/2019"
   ]
  },
  {
   "cell_type": "markdown",
   "metadata": {},
   "source": [
    "# Objective\n",
    "\n",
    "The objective of my project is to work with the Heart Disease UCI dataset from Kaggle (https://www.kaggle.com/ronitf/heart-disease-uci/version/1) in order to demonstrate a proficiency of utilizing the tools and skills learned in biostatistics course E-whatever."
   ]
  },
  {
   "cell_type": "markdown",
   "metadata": {},
   "source": [
    "# Data Set: Heart Disease UCI\n",
    "\n",
    "The Heart Disease UCI Data Set was obtained for free-non comercial use from the Kaggle website. Kaggle is a popular site for machine learning and statistical prediction compititions."
   ]
  },
  {
   "cell_type": "markdown",
   "metadata": {},
   "source": [
    "# Column Meanings\n",
    "\n",
    "age: age in years\n",
    "\n",
    "sex: (1 = male; 0 = female)\n",
    "\n",
    "cp: chest pain typeValue 1: typical angina -- Value 2: atypical angina -- Value 3: non-anginal pain -- Value 4: asymptomatic\n",
    "\n",
    "trestbps: resting blood pressure (in mm Hg on admission to the hospital)\n",
    "\n",
    "chol: serum cholestoral in mg/dl\n",
    "\n",
    "fbs: (fasting blood sugar > 120 mg/dl) (1 = true; 0 = false)\n",
    "\n",
    "restecg: resting electrocardiographic results\n",
    "\n",
    "thalach: maximum heart rate achieved\n",
    "\n",
    "exang: exercise induced angina (1 = yes; 0 = no)\n",
    "\n",
    "oldpeak: ST depression induced by exercise relative to rest\n",
    "\n",
    "slope: the slope of the peak exercise ST segment\n",
    "\n",
    "ca: number of major vessels (0-3) colored by flourosopy\n",
    "\n",
    "thal: 3 = normal; 6 = fixed defect; 7 = reversable defect\n",
    "\n",
    "target: 1 or 0"
   ]
  },
  {
   "cell_type": "markdown",
   "metadata": {},
   "source": [
    "\n",
    "# Hypotheses \n",
    "For the sake of Hypothosis testing let us state some very broad hypothoses:\n",
    "    \n",
    "    1. Men will have higher cholesterol compared with women\n",
    "        >1 tailed t-test\n",
    "    2. Cholesterol levels will be positively corrolated with increase in age\n",
    "    3. Men will have stronger corrilation of age and heightened cholesterol\n",
    "    4. Angina will be associated with cholesterol levels"
   ]
  },
  {
   "cell_type": "markdown",
   "metadata": {},
   "source": [
    "# Exploring the Data\n",
    "\n",
    "Let us take a look at the sape and distribution of our data."
   ]
  },
  {
   "cell_type": "code",
   "execution_count": 7,
   "metadata": {},
   "outputs": [],
   "source": [
    "# Library For manipulating Data Frames\n",
    "import pandas as pd\n",
    "df = pd.read_csv('heart.csv')"
   ]
  },
  {
   "cell_type": "code",
   "execution_count": 8,
   "metadata": {
    "scrolled": true
   },
   "outputs": [
    {
     "data": {
      "text/html": [
       "<div>\n",
       "<style scoped>\n",
       "    .dataframe tbody tr th:only-of-type {\n",
       "        vertical-align: middle;\n",
       "    }\n",
       "\n",
       "    .dataframe tbody tr th {\n",
       "        vertical-align: top;\n",
       "    }\n",
       "\n",
       "    .dataframe thead th {\n",
       "        text-align: right;\n",
       "    }\n",
       "</style>\n",
       "<table border=\"1\" class=\"dataframe\">\n",
       "  <thead>\n",
       "    <tr style=\"text-align: right;\">\n",
       "      <th></th>\n",
       "      <th>age</th>\n",
       "      <th>sex</th>\n",
       "      <th>cp</th>\n",
       "      <th>trestbps</th>\n",
       "      <th>chol</th>\n",
       "      <th>fbs</th>\n",
       "      <th>restecg</th>\n",
       "      <th>thalach</th>\n",
       "      <th>exang</th>\n",
       "      <th>oldpeak</th>\n",
       "      <th>slope</th>\n",
       "      <th>ca</th>\n",
       "      <th>thal</th>\n",
       "      <th>target</th>\n",
       "    </tr>\n",
       "  </thead>\n",
       "  <tbody>\n",
       "    <tr>\n",
       "      <th>0</th>\n",
       "      <td>63</td>\n",
       "      <td>1</td>\n",
       "      <td>3</td>\n",
       "      <td>145</td>\n",
       "      <td>233</td>\n",
       "      <td>1</td>\n",
       "      <td>0</td>\n",
       "      <td>150</td>\n",
       "      <td>0</td>\n",
       "      <td>2.3</td>\n",
       "      <td>0</td>\n",
       "      <td>0</td>\n",
       "      <td>1</td>\n",
       "      <td>1</td>\n",
       "    </tr>\n",
       "    <tr>\n",
       "      <th>1</th>\n",
       "      <td>37</td>\n",
       "      <td>1</td>\n",
       "      <td>2</td>\n",
       "      <td>130</td>\n",
       "      <td>250</td>\n",
       "      <td>0</td>\n",
       "      <td>1</td>\n",
       "      <td>187</td>\n",
       "      <td>0</td>\n",
       "      <td>3.5</td>\n",
       "      <td>0</td>\n",
       "      <td>0</td>\n",
       "      <td>2</td>\n",
       "      <td>1</td>\n",
       "    </tr>\n",
       "    <tr>\n",
       "      <th>2</th>\n",
       "      <td>41</td>\n",
       "      <td>0</td>\n",
       "      <td>1</td>\n",
       "      <td>130</td>\n",
       "      <td>204</td>\n",
       "      <td>0</td>\n",
       "      <td>0</td>\n",
       "      <td>172</td>\n",
       "      <td>0</td>\n",
       "      <td>1.4</td>\n",
       "      <td>2</td>\n",
       "      <td>0</td>\n",
       "      <td>2</td>\n",
       "      <td>1</td>\n",
       "    </tr>\n",
       "    <tr>\n",
       "      <th>3</th>\n",
       "      <td>56</td>\n",
       "      <td>1</td>\n",
       "      <td>1</td>\n",
       "      <td>120</td>\n",
       "      <td>236</td>\n",
       "      <td>0</td>\n",
       "      <td>1</td>\n",
       "      <td>178</td>\n",
       "      <td>0</td>\n",
       "      <td>0.8</td>\n",
       "      <td>2</td>\n",
       "      <td>0</td>\n",
       "      <td>2</td>\n",
       "      <td>1</td>\n",
       "    </tr>\n",
       "    <tr>\n",
       "      <th>4</th>\n",
       "      <td>57</td>\n",
       "      <td>0</td>\n",
       "      <td>0</td>\n",
       "      <td>120</td>\n",
       "      <td>354</td>\n",
       "      <td>0</td>\n",
       "      <td>1</td>\n",
       "      <td>163</td>\n",
       "      <td>1</td>\n",
       "      <td>0.6</td>\n",
       "      <td>2</td>\n",
       "      <td>0</td>\n",
       "      <td>2</td>\n",
       "      <td>1</td>\n",
       "    </tr>\n",
       "  </tbody>\n",
       "</table>\n",
       "</div>"
      ],
      "text/plain": [
       "   age  sex  cp  trestbps  chol  fbs  restecg  thalach  exang  oldpeak  slope  \\\n",
       "0   63    1   3       145   233    1        0      150      0      2.3      0   \n",
       "1   37    1   2       130   250    0        1      187      0      3.5      0   \n",
       "2   41    0   1       130   204    0        0      172      0      1.4      2   \n",
       "3   56    1   1       120   236    0        1      178      0      0.8      2   \n",
       "4   57    0   0       120   354    0        1      163      1      0.6      2   \n",
       "\n",
       "   ca  thal  target  \n",
       "0   0     1       1  \n",
       "1   0     2       1  \n",
       "2   0     2       1  \n",
       "3   0     2       1  \n",
       "4   0     2       1  "
      ]
     },
     "execution_count": 8,
     "metadata": {},
     "output_type": "execute_result"
    }
   ],
   "source": [
    "df.head()"
   ]
  },
  {
   "cell_type": "markdown",
   "metadata": {},
   "source": [
    "# Graph Histograms"
   ]
  },
  {
   "cell_type": "code",
   "execution_count": 9,
   "metadata": {
    "scrolled": true
   },
   "outputs": [
    {
     "data": {
      "image/png": "[encoded data removed]",
      "text/plain": [
       "<Figure size 432x288 with 4 Axes>"
      ]
     },
     "metadata": {
      "needs_background": "light"
     },
     "output_type": "display_data"
    }
   ],
   "source": [
    "import matplotlib.pyplot as plt\n",
    "df2 = pd.concat([df['age'], df['chol'], df['cp']], axis = 1)\n",
    "df2.hist(bins = 30)\n",
    "plt.savefig('Histograms.PNG', dpi = 800)\n",
    "plt.rcParams.update({'font.size': 4})\n",
    "plt.show()\n"
   ]
  },
  {
   "cell_type": "code",
   "execution_count": 10,
   "metadata": {
    "scrolled": false
   },
   "outputs": [],
   "source": [
    "df = pd.concat([df2, df['sex']], axis = 1)"
   ]
  },
  {
   "cell_type": "markdown",
   "metadata": {},
   "source": [
    "# Sex and Heart Disease"
   ]
  },
  {
   "cell_type": "code",
   "execution_count": 13,
   "metadata": {},
   "outputs": [],
   "source": [
    "from scipy import stats"
   ]
  },
  {
   "cell_type": "code",
   "execution_count": 20,
   "metadata": {},
   "outputs": [
    {
     "data": {
      "image/png": "[encoded data removed]",
      "text/plain": [
       "<Figure size 432x288 with 1 Axes>"
      ]
     },
     "metadata": {
      "needs_background": "light"
     },
     "output_type": "display_data"
    }
   ],
   "source": [
    "import seaborn as sns\n",
    "#male\n",
    "m = df.loc[df['sex']==1]\n",
    "#female\n",
    "f = df.loc[df['sex']==0]\n",
    "#continuous variables\n",
    "cont = ['chol']\n",
    "# use seaborn to plot\n",
    "for i in cont:\n",
    "    sns.distplot(m[i], color = \"skyblue\", label = 'Male')\n",
    "    sns.distplot(f[i], color = 'red', label = 'Female')\n",
    "    plt.rcParams.update({'font.size': 12})\n",
    "    plt.show()"
   ]
  },
  {
   "cell_type": "code",
   "execution_count": 18,
   "metadata": {},
   "outputs": [
    {
     "data": {
      "text/plain": [
       "Ttest_indResult(statistic=-3.5029368327219244, pvalue=0.000529966610622664)"
      ]
     },
     "execution_count": 18,
     "metadata": {},
     "output_type": "execute_result"
    }
   ],
   "source": [
    "from scipy import stats\n",
    "stats.ttest_ind(m['chol'],f['chol'])"
   ]
  },
  {
   "cell_type": "markdown",
   "metadata": {},
   "source": [
    "# Ages & Cholesterol\n",
    "\n"
   ]
  },
  {
   "cell_type": "markdown",
   "metadata": {},
   "source": [
    "We will move forward by assigning an arbitrary age range of 10 year periods, this is just an easy way to practice what we have learned. Due to the fact that each age range has a different number of patients this study is imperfect for directly compairing these groups, however, we work with what we got."
   ]
  },
  {
   "cell_type": "markdown",
   "metadata": {},
   "source": [
    "Seperating out the ages 30 to 39, 40 to 49, 50 to 59, and 60 to 69 we can start to observe the differences in mean cholesterol."
   ]
  },
  {
   "cell_type": "code",
   "execution_count": 112,
   "metadata": {
    "scrolled": true
   },
   "outputs": [
    {
     "name": "stdout",
     "output_type": "stream",
     "text": [
      "mean cholesterol of 30 to 39 : 216.800000 \n",
      "mean cholesterol of 40 to 49 : 237.565217 \n",
      "mean cholesterol of 50 to 59 : 248.635593 \n",
      "mean cholesterol of 60 to 69 : 261.681159 \n"
     ]
    }
   ],
   "source": [
    "#seperate ages\n",
    "a30 = df.loc[(df['age'] < 40) & (df['age']>30)]\n",
    "a40 = df.loc[(df['age'] < 50) & (df['age']>40)]\n",
    "a50 = df.loc[(df['age'] < 60) & (df['age']>50)]\n",
    "a60 = df.loc[(df['age'] < 70) & (df['age']>60)]\n",
    "ages = [a30,a40,a50,a60]\n",
    "txt = ['30 to 39', '40 to 49', '50 to 59', '60 to 69']\n",
    "#print means\n",
    "for i in range(0, len(ages)):\n",
    "    print('mean cholesterol of ages %s : %f ' %  (txt[i], ages[i]['chol'].mean()))"
   ]
  },
  {
   "cell_type": "markdown",
   "metadata": {},
   "source": [
    "Simply looking at this trend we can start to get an idea of where this pattern will lead us. Let us now use box plots to observe where these means fit in their prospective populations as well as the range of the upper and lower limits of each."
   ]
  },
  {
   "cell_type": "code",
   "execution_count": 120,
   "metadata": {
    "scrolled": true
   },
   "outputs": [
    {
     "data": {
      "image/png": "[encoded data removed]",
      "text/plain": [
       "<Figure size 432x288 with 1 Axes>"
      ]
     },
     "metadata": {
      "needs_background": "light"
     },
     "output_type": "display_data"
    }
   ],
   "source": [
    "bdf = pd.DataFrame()\n",
    "for i in ages:\n",
    "    bdf = pd.concat([bdf, i['chol']], axis = 1)\n",
    "bdf.boxplot()\n",
    "plt.savefig('mean_boxplots.PNG')\n",
    "plt.show()"
   ]
  },
  {
   "cell_type": "markdown",
   "metadata": {},
   "source": [
    "This figure continues to support the idea that cholesterol has a trend to rise as age rises. The next step would be to look at the corrilation of age with cholesterol intake"
   ]
  },
  {
   "cell_type": "code",
   "execution_count": 144,
   "metadata": {
    "scrolled": false
   },
   "outputs": [
    {
     "data": {
      "image/png": "[encoded data removed]",
      "text/plain": [
       "<Figure size 432x288 with 1 Axes>"
      ]
     },
     "metadata": {
      "needs_background": "light"
     },
     "output_type": "display_data"
    },
    {
     "name": "stdout",
     "output_type": "stream",
     "text": [
      " The slope of the line is: 1.219441 \n",
      " The R squared value is: 0.213678 \n",
      " The p value is: 0.000179 \n",
      " The standard error is: 0.321344\n"
     ]
    }
   ],
   "source": [
    "sns.regplot(df['age'],df['chol'])\n",
    "plt.savefig('best_fit.png')\n",
    "plt.show()\n",
    "import matplotlib.pyplot as plt\n",
    "from scipy import stats\n",
    "slope, intercept, r_value, p_value, std_err = stats.linregress(df['age'], df['chol'])\n",
    "print(' The slope of the line is: %f \\n The R squared value is: %f \\n The p value is: %f \\n The standard error is: %f'\n",
    "     %(slope, r_value, p_value, std_err))"
   ]
  },
  {
   "cell_type": "markdown",
   "metadata": {},
   "source": [
    "# Sex - Age and Cholesterol"
   ]
  },
  {
   "cell_type": "markdown",
   "metadata": {},
   "source": [
    "Here we can see that the slope is 1.219 which is a reasonable positive corrilation, however the spread of data points and the R squared statistic of 0.213 suggests that there is a fair bit of variation from this model. It is fair to say that this makes sense, after all people have different habits and life styles resulting in varying cholesterol levels. The fact that there is trend does suggest that withoug intervention or specific habits cholesterol is likely to rise."
   ]
  },
  {
   "cell_type": "code",
   "execution_count": 143,
   "metadata": {
    "scrolled": false
   },
   "outputs": [
    {
     "data": {
      "image/png": "[encoded data removed]",
      "text/plain": [
       "<Figure size 432x288 with 1 Axes>"
      ]
     },
     "metadata": {
      "needs_background": "light"
     },
     "output_type": "display_data"
    },
    {
     "name": "stdout",
     "output_type": "stream",
     "text": [
      " MALE:\n",
      " The slope of the line is: 0.765626 \n",
      " The R squared value is: 0.158983 \n",
      " The p value is: 0.022132 \n",
      " The standard error is: 0.332070 \n",
      "-------------------------------------\n",
      " FEMALE:\n",
      " The slope of the line is: 1.802328 \n",
      " The R squared value is: 0.260548 \n",
      " The p value is: 0.010352 \n",
      " The standard error is: 0.688837 \n",
      "-------------------------------------\n"
     ]
    }
   ],
   "source": [
    "# male\n",
    "m = df.loc[df['sex']==1]\n",
    "# female\n",
    "f = df.loc[df['sex']==0]\n",
    "\n",
    "sns.regplot(m['age'],m['chol'], color = 'skyblue')\n",
    "sns.regplot(f['age'],f['chol'], color = 'pink')\n",
    "plt.savefig('best_fit.png')\n",
    "plt.show()\n",
    "import matplotlib.pyplot as plt\n",
    "from scipy import stats\n",
    "slope, intercept, r_value, p_value, std_err = stats.linregress(m['age'], m['chol'])\n",
    "print(' MALE:\\n The slope of the line is: %f \\n The R squared value is: %f \\n The p value is: %f \\n The standard error is: %f \\n-------------------------------------'\n",
    "     %(slope, r_value, p_value, std_err))\n",
    "slope2, intercept2, r_value2, p_value2, std_err2 = stats.linregress(f['age'], f['chol'])\n",
    "print(' FEMALE:\\n The slope of the line is: %f \\n The R squared value is: %f \\n The p value is: %f \\n The standard error is: %f \\n-------------------------------------'\n",
    "     %(slope2, r_value2, p_value2, std_err2))"
   ]
  },
  {
   "cell_type": "code",
   "execution_count": 180,
   "metadata": {
    "scrolled": false
   },
   "outputs": [
    {
     "name": "stdout",
     "output_type": "stream",
     "text": [
      "Male\n",
      " Lower CI 233.565217\n",
      " Upper CI 245.159420\n",
      "Female\n",
      " Lower CI 249.739583\n",
      " Upper CI 276.093750\n"
     ]
    }
   ],
   "source": [
    "#get confidence intervals\n",
    "import scipy\n",
    "import scikits.bootstrap as bootstrap  \n",
    "CIs = bootstrap.ci(data=m['chol'], statfunction=scipy.mean, alpha = 0.05)\n",
    "print('Male\\n Lower CI %f\\n Upper CI %f' % (CIs[0], CIs[1]))\n",
    "CIs = bootstrap.ci(data=f['chol'], statfunction=scipy.mean, alpha = 0.05)\n",
    "print('Female\\n Lower CI %f\\n Upper CI %f' % (CIs[0], CIs[1]))"
   ]
  },
  {
   "cell_type": "code",
   "execution_count": 47,
   "metadata": {},
   "outputs": [],
   "source": [
    "f1 = df.loc[(df['cp']== 1)]\n",
    "f2 = df.loc[(df['cp']== 2)]\n",
    "f3 = df.loc[(df['cp']== 3)]\n",
    "f4 = df.loc[(df['cp']== 4)]"
   ]
  },
  {
   "cell_type": "code",
   "execution_count": 65,
   "metadata": {},
   "outputs": [],
   "source": [
    "#expected\n",
    "ml = len(m)\n",
    "fl = len(f)\n",
    "x = []\n",
    "x.append(len(f1)/len(df))\n",
    "x.append(len(f2)/len(df))\n",
    "x.append(len(f3)/len(df))\n",
    "fx = []\n",
    "mx = []\n",
    "for i in x:\n",
    "    fx.append(ml*i)\n",
    "    mx.append(fl*i)\n",
    "    "
   ]
  },
  {
   "cell_type": "code",
   "execution_count": 66,
   "metadata": {},
   "outputs": [
    {
     "data": {
      "text/plain": [
       "[15.841584158415841, 27.56435643564356, 7.287128712871287]"
      ]
     },
     "execution_count": 66,
     "metadata": {},
     "output_type": "execute_result"
    }
   ],
   "source": [
    "mx"
   ]
  },
  {
   "cell_type": "code",
   "execution_count": 68,
   "metadata": {
    "scrolled": true
   },
   "outputs": [
    {
     "name": "stdout",
     "output_type": "stream",
     "text": [
      "Power_divergenceResult(statistic=29.683122886827498, pvalue=3.5841960947202453e-07)\n",
      "Power_divergenceResult(statistic=19.36183617349741, pvalue=6.24641299517988e-05)\n"
     ]
    }
   ],
   "source": [
    "from scipy.stats import chisquare\n",
    "counts = (len(f1.loc[f1['sex']==1]),len(f1.loc[f1['sex']==1]),len(f1.loc[f1['sex']==1]))\n",
    "print(chisquare(counts, f_exp = fx))\n",
    "counts = (len(f1.loc[f1['sex']==0]),len(f1.loc[f1['sex']==0]),len(f1.loc[f1['sex']==0]))\n",
    "print(chisquare(counts, f_exp = mx))\n"
   ]
  },
  {
   "cell_type": "code",
   "execution_count": 71,
   "metadata": {
    "scrolled": true
   },
   "outputs": [
    {
     "data": {
      "text/plain": [
       "96"
      ]
     },
     "execution_count": 71,
     "metadata": {},
     "output_type": "execute_result"
    }
   ],
   "source": [
    "(fl)"
   ]
  },
  {
   "cell_type": "code",
   "execution_count": 72,
   "metadata": {
    "scrolled": true
   },
   "outputs": [
    {
     "data": {
      "text/plain": [
       "303"
      ]
     },
     "execution_count": 72,
     "metadata": {},
     "output_type": "execute_result"
    }
   ],
   "source": [
    "ml+fl"
   ]
  },
  {
   "cell_type": "code",
   "execution_count": 51,
   "metadata": {},
   "outputs": [],
   "source": [
    "\n",
    "    "
   ]
  },
  {
   "cell_type": "markdown",
   "metadata": {},
   "source": [
    "Here we see that the 95 ci for men and women do not have much overlap. Perhaps this could be a useful tool for determining the sex of a patient without knowing."
   ]
  },
  {
   "cell_type": "markdown",
   "metadata": {},
   "source": [
    "surprisingly women have a higher likelihood of having a rise in cholesterol compared to men. Naturally we need to ask, is this trend significant."
   ]
  },
  {
   "cell_type": "code",
   "execution_count": 167,
   "metadata": {
    "scrolled": false
   },
   "outputs": [
    {
     "data": {
      "image/png": "[encoded data removed]",
      "text/plain": [
       "<Figure size 432x288 with 2 Axes>"
      ]
     },
     "metadata": {
      "needs_background": "light"
     },
     "output_type": "display_data"
    }
   ],
   "source": [
    "#drop target because we are not doing machine learning\n",
    "df2 = df.drop(['target'], axis = 1)\n",
    "corr = df2.corr()\n",
    "sns.heatmap(corr)\n",
    "plt.show()"
   ]
  },
  {
   "cell_type": "code",
   "execution_count": null,
   "metadata": {},
   "outputs": [],
   "source": []
  }
 ],
 "metadata": {
  "kernelspec": {
   "display_name": "Python 3",
   "language": "python",
   "name": "python3"
  },
  "language_info": {
   "codemirror_mode": {
    "name": "ipython",
    "version": 3
   },
   "file_extension": ".py",
   "mimetype": "text/x-python",
   "name": "python",
   "nbconvert_exporter": "python",
   "pygments_lexer": "ipython3",
   "version": "3.7.3"
  }
 },
 "nbformat": 4,
 "nbformat_minor": 2
}
